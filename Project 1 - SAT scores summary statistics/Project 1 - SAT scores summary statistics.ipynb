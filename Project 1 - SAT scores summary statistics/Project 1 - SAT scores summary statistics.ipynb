{
 "cells": [
  {
   "cell_type": "markdown",
   "metadata": {},
   "source": [
    "# Project 1 - SAT scores summary statistics"
   ]
  },
  {
   "cell_type": "markdown",
   "metadata": {},
   "source": [
    "The data used in this project is taken from fivethrityeight. It describes the mean SAT scores in Math and Verbal, along with the participation rate, in each state of the US. It also gives the mean scores and participation rate in the US overall."
   ]
  },
  {
   "cell_type": "markdown",
   "metadata": {},
   "source": [
    "## 1. Load the data."
   ]
  },
  {
   "cell_type": "markdown",
   "metadata": {},
   "source": [
    "##### a. Load the data into a list of lists"
   ]
  },
  {
   "cell_type": "code",
   "execution_count": 1,
   "metadata": {
    "collapsed": false
   },
   "outputs": [],
   "source": [
    "import csv\n",
    "\n",
    "with open('../assets/sat_scores.csv', 'r') as csvfile:\n",
    "    reader = csv.reader(csvfile)\n",
    "    sat_scores = list(reader)"
   ]
  },
  {
   "cell_type": "markdown",
   "metadata": {},
   "source": [
    "##### b. Print the data"
   ]
  },
  {
   "cell_type": "code",
   "execution_count": 2,
   "metadata": {
    "collapsed": false
   },
   "outputs": [
    {
     "name": "stdout",
     "output_type": "stream",
     "text": [
      "SAT scores table:\n",
      "['State', 'Rate', 'Verbal', 'Math']\n",
      "['CT', '82', '509', '510']\n",
      "['NJ', '81', '499', '513']\n",
      "['MA', '79', '511', '515']\n",
      "['NY', '77', '495', '505']\n",
      "['NH', '72', '520', '516']\n",
      "['RI', '71', '501', '499']\n",
      "['PA', '71', '500', '499']\n",
      "['VT', '69', '511', '506']\n",
      "['ME', '69', '506', '500']\n",
      "['VA', '68', '510', '501']\n",
      "['DE', '67', '501', '499']\n",
      "['MD', '65', '508', '510']\n",
      "['NC', '65', '493', '499']\n",
      "['GA', '63', '491', '489']\n",
      "['IN', '60', '499', '501']\n",
      "['SC', '57', '486', '488']\n",
      "['DC', '56', '482', '474']\n",
      "['OR', '55', '526', '526']\n",
      "['FL', '54', '498', '499']\n",
      "['WA', '53', '527', '527']\n",
      "['TX', '53', '493', '499']\n",
      "['HI', '52', '485', '515']\n",
      "['AK', '51', '514', '510']\n",
      "['CA', '51', '498', '517']\n",
      "['AZ', '34', '523', '525']\n",
      "['NV', '33', '509', '515']\n",
      "['CO', '31', '539', '542']\n",
      "['OH', '26', '534', '439']\n",
      "['MT', '23', '539', '539']\n",
      "['WV', '18', '527', '512']\n",
      "['ID', '17', '543', '542']\n",
      "['TN', '13', '562', '553']\n",
      "['NM', '13', '551', '542']\n",
      "['IL', '12', '576', '589']\n",
      "['KY', '12', '550', '550']\n",
      "['WY', '11', '547', '545']\n",
      "['MI', '11', '561', '572']\n",
      "['MN', '9', '580', '589']\n",
      "['KS', '9', '577', '580']\n",
      "['AL', '9', '559', '554']\n",
      "['NE', '8', '562', '568']\n",
      "['OK', '8', '567', '561']\n",
      "['MO', '8', '577', '577']\n",
      "['LA', '7', '564', '562']\n",
      "['WI', '6', '584', '596']\n",
      "['AR', '6', '562', '550']\n",
      "['UT', '5', '575', '570']\n",
      "['IA', '5', '593', '603']\n",
      "['SD', '4', '577', '582']\n",
      "['ND', '4', '592', '599']\n",
      "['MS', '4', '566', '551']\n",
      "['All', '45', '506', '514']\n"
     ]
    }
   ],
   "source": [
    "print 'SAT scores table:'\n",
    "for row in sat_scores:\n",
    "    print row"
   ]
  },
  {
   "cell_type": "markdown",
   "metadata": {
    "collapsed": true
   },
   "source": [
    "##### c. Extract a list of the labels from the data, and remove them from the data"
   ]
  },
  {
   "cell_type": "code",
   "execution_count": 3,
   "metadata": {
    "collapsed": false
   },
   "outputs": [],
   "source": [
    "labels = sat_scores[0]\n",
    "sat_scores_data = sat_scores[1:]"
   ]
  },
  {
   "cell_type": "markdown",
   "metadata": {},
   "source": [
    "##### d. Create a list of State names extracted from the data"
   ]
  },
  {
   "cell_type": "code",
   "execution_count": 4,
   "metadata": {
    "collapsed": false
   },
   "outputs": [
    {
     "name": "stdout",
     "output_type": "stream",
     "text": [
      "List of State names: ['CT', 'NJ', 'MA', 'NY', 'NH', 'RI', 'PA', 'VT', 'ME', 'VA', 'DE', 'MD', 'NC', 'GA', 'IN', 'SC', 'DC', 'OR', 'FL', 'WA', 'TX', 'HI', 'AK', 'CA', 'AZ', 'NV', 'CO', 'OH', 'MT', 'WV', 'ID', 'TN', 'NM', 'IL', 'KY', 'WY', 'MI', 'MN', 'KS', 'AL', 'NE', 'OK', 'MO', 'LA', 'WI', 'AR', 'UT', 'IA', 'SD', 'ND', 'MS', 'All']\n"
     ]
    }
   ],
   "source": [
    "state_col_index = labels.index('State')\n",
    "\n",
    "state_names = [sat_scores_data[i][state_col_index] for i in range(len(sat_scores_data))]\n",
    "\n",
    "print 'List of State names:', state_names\n"
   ]
  },
  {
   "cell_type": "markdown",
   "metadata": {},
   "source": [
    "##### e. Print the types of each column"
   ]
  },
  {
   "cell_type": "code",
   "execution_count": 5,
   "metadata": {
    "collapsed": false
   },
   "outputs": [
    {
     "name": "stdout",
     "output_type": "stream",
     "text": [
      "State column type: str\n",
      "Rate column type: str\n",
      "Verbal column type: str\n",
      "Math column type: str\n"
     ]
    }
   ],
   "source": [
    "for i in range(len(sat_scores_data[0])):\n",
    "    print '{} column type: {}'.format(labels[i], str(type(sat_scores_data[0][i]))[7:-2])"
   ]
  },
  {
   "cell_type": "markdown",
   "metadata": {},
   "source": [
    "##### f. Reassign data types"
   ]
  },
  {
   "cell_type": "code",
   "execution_count": 6,
   "metadata": {
    "collapsed": false
   },
   "outputs": [
    {
     "name": "stdout",
     "output_type": "stream",
     "text": [
      "State column type: str\n",
      "Rate column type: float\n",
      "Verbal column type: float\n",
      "Math column type: float\n"
     ]
    }
   ],
   "source": [
    "for j in [labels.index('Rate'), labels.index('Verbal'), labels.index('Math')]:\n",
    "    for i in range(len(sat_scores_data)):\n",
    "        sat_scores_data[i][j] = float(sat_scores_data[i][j])\n",
    "        \n",
    "\n",
    "for i in range(len(sat_scores_data[0])):\n",
    "    print '{} column type: {}'.format(labels[i], str(type(sat_scores_data[0][i]))[7:-2])"
   ]
  },
  {
   "cell_type": "markdown",
   "metadata": {},
   "source": [
    "##### g. Create a dictionary for each column mapping the State to its respective value for that column"
   ]
  },
  {
   "cell_type": "code",
   "execution_count": 7,
   "metadata": {
    "collapsed": false
   },
   "outputs": [
    {
     "name": "stdout",
     "output_type": "stream",
     "text": [
      "Rate dictionary: {'WA': 53.0, 'DE': 67.0, 'DC': 56.0, 'WI': 6.0, 'WV': 18.0, 'HI': 52.0, 'FL': 54.0, 'WY': 11.0, 'NH': 72.0, 'NJ': 81.0, 'NM': 13.0, 'TX': 53.0, 'LA': 7.0, 'NC': 65.0, 'ND': 4.0, 'NE': 8.0, 'TN': 13.0, 'NY': 77.0, 'PA': 71.0, 'RI': 71.0, 'NV': 33.0, 'VA': 68.0, 'CO': 31.0, 'AK': 51.0, 'AL': 9.0, 'AR': 6.0, 'VT': 69.0, 'IL': 12.0, 'GA': 63.0, 'IN': 60.0, 'IA': 5.0, 'OK': 8.0, 'AZ': 34.0, 'CA': 51.0, 'ID': 17.0, 'CT': 82.0, 'ME': 69.0, 'MD': 65.0, 'All': 45.0, 'MA': 79.0, 'OH': 26.0, 'UT': 5.0, 'MO': 8.0, 'MN': 9.0, 'MI': 11.0, 'KS': 9.0, 'MT': 23.0, 'MS': 4.0, 'SC': 57.0, 'KY': 12.0, 'OR': 55.0, 'SD': 4.0}\n",
      "\n",
      "Verbal dictionary: {'WA': 527.0, 'DE': 501.0, 'DC': 482.0, 'WI': 584.0, 'WV': 527.0, 'HI': 485.0, 'FL': 498.0, 'WY': 547.0, 'NH': 520.0, 'NJ': 499.0, 'NM': 551.0, 'TX': 493.0, 'LA': 564.0, 'NC': 493.0, 'ND': 592.0, 'NE': 562.0, 'TN': 562.0, 'NY': 495.0, 'PA': 500.0, 'RI': 501.0, 'NV': 509.0, 'VA': 510.0, 'CO': 539.0, 'AK': 514.0, 'AL': 559.0, 'AR': 562.0, 'VT': 511.0, 'IL': 576.0, 'GA': 491.0, 'IN': 499.0, 'IA': 593.0, 'OK': 567.0, 'AZ': 523.0, 'CA': 498.0, 'ID': 543.0, 'CT': 509.0, 'ME': 506.0, 'MD': 508.0, 'All': 506.0, 'MA': 511.0, 'OH': 534.0, 'UT': 575.0, 'MO': 577.0, 'MN': 580.0, 'MI': 561.0, 'KS': 577.0, 'MT': 539.0, 'MS': 566.0, 'SC': 486.0, 'KY': 550.0, 'OR': 526.0, 'SD': 577.0}\n",
      "\n",
      "Math dictionary: {'WA': 527.0, 'DE': 499.0, 'DC': 474.0, 'WI': 596.0, 'WV': 512.0, 'HI': 515.0, 'FL': 499.0, 'WY': 545.0, 'NH': 516.0, 'NJ': 513.0, 'NM': 542.0, 'TX': 499.0, 'LA': 562.0, 'NC': 499.0, 'ND': 599.0, 'NE': 568.0, 'TN': 553.0, 'NY': 505.0, 'PA': 499.0, 'RI': 499.0, 'NV': 515.0, 'VA': 501.0, 'CO': 542.0, 'AK': 510.0, 'AL': 554.0, 'AR': 550.0, 'VT': 506.0, 'IL': 589.0, 'GA': 489.0, 'IN': 501.0, 'IA': 603.0, 'OK': 561.0, 'AZ': 525.0, 'CA': 517.0, 'ID': 542.0, 'CT': 510.0, 'ME': 500.0, 'MD': 510.0, 'All': 514.0, 'MA': 515.0, 'OH': 439.0, 'UT': 570.0, 'MO': 577.0, 'MN': 589.0, 'MI': 572.0, 'KS': 580.0, 'MT': 539.0, 'MS': 551.0, 'SC': 488.0, 'KY': 550.0, 'OR': 526.0, 'SD': 582.0}\n"
     ]
    }
   ],
   "source": [
    "rate = {}\n",
    "verbal = {}\n",
    "math = {}\n",
    "\n",
    "for i in range(len(sat_scores_data)):\n",
    "    rate[sat_scores_data[i][labels.index('State')]] = sat_scores_data[i][labels.index('Rate')]\n",
    "    verbal[sat_scores_data[i][labels.index('State')]] = sat_scores_data[i][labels.index('Verbal')]\n",
    "    math[sat_scores_data[i][labels.index('State')]] = sat_scores_data[i][labels.index('Math')]\n",
    "    \n",
    "print 'Rate dictionary:', rate\n",
    "print ''\n",
    "print 'Verbal dictionary:', verbal\n",
    "print ''\n",
    "print 'Math dictionary:', math"
   ]
  },
  {
   "cell_type": "markdown",
   "metadata": {},
   "source": [
    "##### h. Create a dictionary with the values for each of the numeric columns"
   ]
  },
  {
   "cell_type": "code",
   "execution_count": 8,
   "metadata": {
    "collapsed": false
   },
   "outputs": [
    {
     "name": "stdout",
     "output_type": "stream",
     "text": [
      "Numeric columns dictionary: {'Rate': [82.0, 81.0, 79.0, 77.0, 72.0, 71.0, 71.0, 69.0, 69.0, 68.0, 67.0, 65.0, 65.0, 63.0, 60.0, 57.0, 56.0, 55.0, 54.0, 53.0, 53.0, 52.0, 51.0, 51.0, 34.0, 33.0, 31.0, 26.0, 23.0, 18.0, 17.0, 13.0, 13.0, 12.0, 12.0, 11.0, 11.0, 9.0, 9.0, 9.0, 8.0, 8.0, 8.0, 7.0, 6.0, 6.0, 5.0, 5.0, 4.0, 4.0, 4.0, 45.0], 'Math': [510.0, 513.0, 515.0, 505.0, 516.0, 499.0, 499.0, 506.0, 500.0, 501.0, 499.0, 510.0, 499.0, 489.0, 501.0, 488.0, 474.0, 526.0, 499.0, 527.0, 499.0, 515.0, 510.0, 517.0, 525.0, 515.0, 542.0, 439.0, 539.0, 512.0, 542.0, 553.0, 542.0, 589.0, 550.0, 545.0, 572.0, 589.0, 580.0, 554.0, 568.0, 561.0, 577.0, 562.0, 596.0, 550.0, 570.0, 603.0, 582.0, 599.0, 551.0, 514.0], 'Verbal': [509.0, 499.0, 511.0, 495.0, 520.0, 501.0, 500.0, 511.0, 506.0, 510.0, 501.0, 508.0, 493.0, 491.0, 499.0, 486.0, 482.0, 526.0, 498.0, 527.0, 493.0, 485.0, 514.0, 498.0, 523.0, 509.0, 539.0, 534.0, 539.0, 527.0, 543.0, 562.0, 551.0, 576.0, 550.0, 547.0, 561.0, 580.0, 577.0, 559.0, 562.0, 567.0, 577.0, 564.0, 584.0, 562.0, 575.0, 593.0, 577.0, 592.0, 566.0, 506.0]}\n"
     ]
    }
   ],
   "source": [
    "num_columns={}\n",
    "\n",
    "for j in [labels.index('Rate'), labels.index('Verbal'), labels.index('Math')]:\n",
    "    num_columns[labels[j]] = [sat_scores_data[i][j] for i in range(len(sat_scores_data))]\n",
    "\n",
    "print 'Numeric columns dictionary:', num_columns"
   ]
  },
  {
   "cell_type": "markdown",
   "metadata": {},
   "source": [
    "## 2. Describe the data"
   ]
  },
  {
   "cell_type": "markdown",
   "metadata": {},
   "source": [
    "##### a. Print the min and max of each column"
   ]
  },
  {
   "cell_type": "code",
   "execution_count": 9,
   "metadata": {
    "collapsed": false
   },
   "outputs": [
    {
     "name": "stdout",
     "output_type": "stream",
     "text": [
      "Min participation rate: 4.0\n",
      "Max participation rate: 82.0\n",
      "\n",
      "Min math average score: 439.0\n",
      "Max math average score: 603.0\n",
      "\n",
      "Min verbal average score: 482.0\n",
      "Max verbal average score: 593.0\n"
     ]
    }
   ],
   "source": [
    "print 'Min participation rate:', min(num_columns['Rate'])\n",
    "print 'Max participation rate:', max(num_columns['Rate'])\n",
    "print ''\n",
    "print 'Min math average score:', min(num_columns['Math'])\n",
    "print 'Max math average score:', max(num_columns['Math'])\n",
    "print ''\n",
    "print 'Min verbal average score:', min(num_columns['Verbal'])\n",
    "print 'Max verbal average score:', max(num_columns['Verbal'])"
   ]
  },
  {
   "cell_type": "markdown",
   "metadata": {},
   "source": [
    "##### b. Write a function to compute Standard Deviation and print it for each numeric column."
   ]
  },
  {
   "cell_type": "code",
   "execution_count": 10,
   "metadata": {
    "collapsed": false
   },
   "outputs": [
    {
     "name": "stdout",
     "output_type": "stream",
     "text": [
      "Participation rates standard deviation: 27.04\n",
      "Math scores standard deviation: 35.67\n",
      "Verbal scores standard deviation: 32.92\n",
      "\n",
      "Data normalised over 100:\n",
      "Participation rates standard deviation: 27.04\n",
      "Normalised math scores standard deviation: 4.46\n",
      "Normalised verbal scores standard deviation: 4.11\n"
     ]
    }
   ],
   "source": [
    "from __future__ import division\n",
    "\n",
    "def stdev(col):\n",
    "    squared_err = [(i - sum(col)/len(col))**2 for i in col]\n",
    "    var = sum(squared_err)/len(col)\n",
    "    return var**(1/2)\n",
    "\n",
    "print 'Participation rates standard deviation:', round(stdev(num_columns['Rate']), 2)\n",
    "print 'Math scores standard deviation:', round(stdev(num_columns['Math']), 2)\n",
    "print 'Verbal scores standard deviation:', round(stdev(num_columns['Verbal']), 2)\n",
    "\n",
    "print ''\n",
    "print 'Data normalised over 100:'\n",
    "print 'Participation rates standard deviation:', round(stdev(num_columns['Rate']), 2)\n",
    "print 'Normalised math scores standard deviation:', round(stdev([i/8 for i in num_columns['Math']]), 2)\n",
    "print 'Normalised verbal scores standard deviation:', round(stdev([i/8 for i in num_columns['Verbal']]), 2)"
   ]
  },
  {
   "cell_type": "markdown",
   "metadata": {},
   "source": [
    "## 3. Visualize the data"
   ]
  },
  {
   "cell_type": "markdown",
   "metadata": {
    "collapsed": true
   },
   "source": [
    "##### a. Plot the distribution of the Rate using histograms."
   ]
  },
  {
   "cell_type": "code",
   "execution_count": 11,
   "metadata": {
    "collapsed": false
   },
   "outputs": [
    {
     "data": {
      "image/png": "[encoded data removed]",
      "text/plain": [
       "<matplotlib.figure.Figure at 0x109c419d0>"
      ]
     },
     "metadata": {},
     "output_type": "display_data"
    }
   ],
   "source": [
    "import matplotlib.pyplot as plt\n",
    "import numpy as np\n",
    "%matplotlib inline \n",
    "\n",
    "plt.hist(num_columns['Rate'], bins = 10)\n",
    "plt.axvline(np.mean(num_columns['Rate']), color='r')\n",
    "plt.axvline(np.median(num_columns['Rate']), color='g')\n",
    "plt.show()"
   ]
  },
  {
   "cell_type": "markdown",
   "metadata": {},
   "source": [
    "##### b. Plot the Math distribution"
   ]
  },
  {
   "cell_type": "code",
   "execution_count": 12,
   "metadata": {
    "collapsed": false
   },
   "outputs": [
    {
     "data": {
      "image/png": "[encoded data removed]",
      "text/plain": [
       "<matplotlib.figure.Figure at 0x10ce0e950>"
      ]
     },
     "metadata": {},
     "output_type": "display_data"
    }
   ],
   "source": [
    "plt.hist(num_columns['Math'], range=[400, 650])\n",
    "plt.axvline(np.mean(num_columns['Math']), color='r')\n",
    "plt.axvline(np.median(num_columns['Math']), color='g')\n",
    "plt.show()"
   ]
  },
  {
   "cell_type": "markdown",
   "metadata": {},
   "source": [
    "##### c. Plot the Verbal distribution"
   ]
  },
  {
   "cell_type": "code",
   "execution_count": 13,
   "metadata": {
    "collapsed": false
   },
   "outputs": [
    {
     "data": {
      "image/png": "[encoded data removed]",
      "text/plain": [
       "<matplotlib.figure.Figure at 0x10d422a90>"
      ]
     },
     "metadata": {},
     "output_type": "display_data"
    }
   ],
   "source": [
    "plt.hist(num_columns['Verbal'], range=[400, 650])\n",
    "plt.axvline(np.mean(num_columns['Verbal']), color='r')\n",
    "plt.axvline(np.median(num_columns['Verbal']), color='g')\n",
    "plt.show()"
   ]
  },
  {
   "cell_type": "markdown",
   "metadata": {
    "collapsed": false
   },
   "source": [
    "The rate distribution is far form normal as it seems to have two separate peaks in the low and high values.  \n",
    "The other two distributions are closer to a normal distribution but with almost no tails.\n"
   ]
  },
  {
   "cell_type": "markdown",
   "metadata": {},
   "source": [
    "##### d. Scatterplots"
   ]
  },
  {
   "cell_type": "code",
   "execution_count": 14,
   "metadata": {
    "collapsed": false
   },
   "outputs": [
    {
     "data": {
      "image/png": "[encoded data removed]",
      "text/plain": [
       "<matplotlib.figure.Figure at 0x1045bc390>"
      ]
     },
     "metadata": {},
     "output_type": "display_data"
    }
   ],
   "source": [
    "fig = plt.figure()\n",
    "\n",
    "ax1 = fig.add_subplot(221)\n",
    "ax1.scatter(num_columns['Verbal'], num_columns['Math'])\n",
    "plt.ylabel('Math scores')\n",
    "plt.title('Correlations between SAT Math scores, Verbal scores and participation rates in the US', loc='left')\n",
    "\n",
    "ax2 = fig.add_subplot(223)\n",
    "ax2.scatter(num_columns['Verbal'], num_columns['Rate'])\n",
    "plt.xlabel('Verbal scores')\n",
    "plt.ylabel('Participation rates')\n",
    "\n",
    "ax3 = fig.add_subplot(224)\n",
    "ax3.scatter(num_columns['Math'], num_columns['Rate'])\n",
    "plt.xlabel('Math scores')\n",
    "\n",
    "plt.show()"
   ]
  },
  {
   "cell_type": "markdown",
   "metadata": {
    "collapsed": false
   },
   "source": [
    "Math and verbal average scores across the US seem to be strongly correlated.   \n",
    "\n",
    "Participation rates seem to be slightly negatively correlated with average scores. "
   ]
  },
  {
   "cell_type": "markdown",
   "metadata": {},
   "source": [
    "##### e. Create box plots for each variable. "
   ]
  },
  {
   "cell_type": "code",
   "execution_count": 15,
   "metadata": {
    "collapsed": false
   },
   "outputs": [
    {
     "data": {
      "image/png": "[encoded data removed]",
      "text/plain": [
       "<matplotlib.figure.Figure at 0x1045bcc10>"
      ]
     },
     "metadata": {},
     "output_type": "display_data"
    }
   ],
   "source": [
    "plt.subplot(1,3,1)\n",
    "plt.boxplot(num_columns['Verbal'])\n",
    "plt.xlabel('Verbal scores')\n",
    "\n",
    "plt.subplot(1,3,2)\n",
    "plt.boxplot(num_columns['Math'])\n",
    "plt.xlabel('Math scores')\n",
    "\n",
    "plt.subplot(1,3,3)\n",
    "plt.boxplot(num_columns['Rate'])\n",
    "plt.xlabel('Participation rate')\n",
    "\n",
    "plt.show()"
   ]
  },
  {
   "cell_type": "markdown",
   "metadata": {},
   "source": [
    "##### f. Heat maps for each variable"
   ]
  },
  {
   "cell_type": "markdown",
   "metadata": {
    "collapsed": true
   },
   "source": [
    "<img src='Participation_rates.png'>"
   ]
  },
  {
   "cell_type": "markdown",
   "metadata": {},
   "source": [
    "<img src='Average_maths_scores.png'>"
   ]
  },
  {
   "cell_type": "markdown",
   "metadata": {},
   "source": [
    "<img src='Average_verbal_scores.png'>"
   ]
  }
 ],
 "metadata": {
  "anaconda-cloud": {},
  "kernelspec": {
   "display_name": "Python [default]",
   "language": "python",
   "name": "python2"
  },
  "language_info": {
   "codemirror_mode": {
    "name": "ipython",
    "version": 2
   },
   "file_extension": ".py",
   "mimetype": "text/x-python",
   "name": "python",
   "nbconvert_exporter": "python",
   "pygments_lexer": "ipython2",
   "version": "2.7.12"
  }
 },
 "nbformat": 4,
 "nbformat_minor": 0
}
